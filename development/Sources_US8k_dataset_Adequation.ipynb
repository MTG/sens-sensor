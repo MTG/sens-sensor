{
 "cells": [
  {
   "cell_type": "markdown",
   "metadata": {},
   "source": [
    "#### SET DIRECTORIES !!!"
   ]
  },
  {
   "cell_type": "code",
   "execution_count": 1,
   "metadata": {},
   "outputs": [
    {
     "name": "stdout",
     "output_type": "stream",
     "text": [
      "Data directory is data\n",
      "Working directory is /Users/amaiasagastimartinez/Desktop/SENS-Soundlights/code/sens-sensor\n"
     ]
    }
   ],
   "source": [
    "data_directory=\"data\"\n",
    "directory=\"/Users/amaiasagastimartinez/Desktop/SENS-Soundlights/code/sens-sensor\"#path/to/sens-sensor\"\n",
    "print(f\"Data directory is {data_directory}\")\n",
    "print(f\"Working directory is {directory}\")"
   ]
  },
  {
   "cell_type": "markdown",
   "metadata": {},
   "source": [
    "# Code to prepare URBANSOUDSCAPES8K original dataset\n",
    "\n",
    "This dataset (https://urbansounddataset.weebly.com/urbansound8k.html) contains 8732 labeled sound excerpts (<=4s) of urban sounds from 10 classes: air_conditioner, car_horn, children_playing, dog_bark, drilling, enginge_idling, gun_shot, jackhammer, siren, and street_music. The classes are drawn from the urban sound taxonomy.\n",
    "\n",
    "For this project, we are training binary models for each sound class, therefore, in this script we are adding new columns to UrbanSound8K.csv indicating which sound source is present with '1'.\n"
   ]
  },
  {
   "cell_type": "markdown",
   "metadata": {},
   "source": [
    "## 1) Analyse class and fold data balance\n",
    "\n",
    "Count how many audios there are per sound class in each fold."
   ]
  },
  {
   "cell_type": "code",
   "execution_count": 17,
   "metadata": {},
   "outputs": [],
   "source": [
    "import pandas as pd\n",
    "import numpy as np\n",
    "import os\n",
    "\n",
    "# Set the working directory\n",
    "import os\n",
    "os.chdir(directory)\n",
    "\n",
    "# Imports from this project\n",
    "from development.lib.auxiliars import US8k_sources"
   ]
  },
  {
   "cell_type": "markdown",
   "metadata": {},
   "source": [
    "Paths, inputs"
   ]
  },
  {
   "cell_type": "code",
   "execution_count": 9,
   "metadata": {},
   "outputs": [],
   "source": [
    "dataset_path=os.path.join(data_directory,\"UrbanSoundscapes8K/metadata/UrbanSound8K.csv\")\n",
    "saving_path=os.path.join(data_directory,\"files/UrbanSound8K_adapted.csv\")"
   ]
  },
  {
   "cell_type": "markdown",
   "metadata": {},
   "source": [
    "Little analysis of number of sound sources per fold"
   ]
  },
  {
   "cell_type": "code",
   "execution_count": 15,
   "metadata": {},
   "outputs": [
    {
     "name": "stdout",
     "output_type": "stream",
     "text": [
      "Rows are folds and columns are classes:\n",
      "[[100.  36. 100. 100. 100.  96.  35. 120.  86. 100.]\n",
      " [100.  42. 100. 100. 100. 100.  35. 120.  91. 100.]\n",
      " [100.  43. 100. 100. 100. 107.  36. 120. 119. 100.]\n",
      " [100.  59. 100. 100. 100. 107.  38. 120. 166. 100.]\n",
      " [100.  98. 100. 100. 100. 107.  40. 120.  71. 100.]\n",
      " [100.  28. 100. 100. 100. 107.  46.  68.  74. 100.]\n",
      " [100.  28. 100. 100. 100. 106.  51.  76.  77. 100.]\n",
      " [100.  30. 100. 100. 100.  88.  30.  78.  80. 100.]\n",
      " [100.  32. 100. 100. 100.  89.  31.  82.  82. 100.]\n",
      " [100.  33. 100. 100. 100.  93.  32.  96.  83. 100.]]\n",
      "\n",
      "\n",
      "Fold  1  total:  873.0\n",
      "Fold  2  total:  888.0\n",
      "Fold  3  total:  925.0\n",
      "Fold  4  total:  990.0\n",
      "Fold  5  total:  936.0\n",
      "Fold  6  total:  823.0\n",
      "Fold  7  total:  838.0\n",
      "Fold  8  total:  806.0\n",
      "Fold  9  total:  816.0\n",
      "Fold  10  total:  837.0\n",
      "\n",
      "\n",
      "Class  air_conditioner  total:  1000.0\n",
      "Class  car_horn  total:  429.0\n",
      "Class  children_playing  total:  1000.0\n",
      "Class  dog_bark  total:  1000.0\n",
      "Class  drilling  total:  1000.0\n",
      "Class  engine_idling  total:  1000.0\n",
      "Class  gun_shot  total:  374.0\n",
      "Class  jackhammer  total:  1000.0\n",
      "Class  siren  total:  929.0\n",
      "Class  street_music  total:  1000.0\n"
     ]
    }
   ],
   "source": [
    "# Array to keep count, each position --> counts of class(columns) per fold(rows) \n",
    "count=np.zeros([10,10])\n",
    "classes=[\"air_conditioner\", \"car_horn\",\"children_playing\",\"dog_bark\",\"drilling\", \"engine_idling\",\"gun_shot\",\"jackhammer\",\"siren\",\"street_music\"]\n",
    "# Import csv file as dataframe\n",
    "df = pd.read_csv(dataset_path)\n",
    "for row in df.index:\n",
    "    count[df[\"fold\"][row]-1][df[\"classID\"][row]]=count[df[\"fold\"][row]-1][df[\"classID\"][row]]+1\n",
    "\n",
    "print(\"Rows are folds and columns are classes:\")\n",
    "print(count)\n",
    "print(\"\\n\")\n",
    "for fold_index in range(count.shape[0]):\n",
    "    print(\"Fold \", fold_index+1, \" total: \", count[fold_index,:].sum())\n",
    "print(\"\\n\")\n",
    "for class_index in range(count.shape[1]):\n",
    "    print(\"Class \", classes[class_index], \" total: \", count[:,class_index].sum())\n"
   ]
  },
  {
   "cell_type": "markdown",
   "metadata": {},
   "source": [
    "## 2) Add one column per sound source with 1 or 0 depeding on its presence in the audio\n"
   ]
  },
  {
   "cell_type": "code",
   "execution_count": 25,
   "metadata": {},
   "outputs": [
    {
     "name": "stdout",
     "output_type": "stream",
     "text": [
      "         slice_file_name    fsID       start         end  salience  fold  \\\n",
      "0       100032-3-0-0.wav  100032    0.000000    0.317551         1     5   \n",
      "1     100263-2-0-117.wav  100263   58.500000   62.500000         1     5   \n",
      "2     100263-2-0-121.wav  100263   60.500000   64.500000         1     5   \n",
      "3     100263-2-0-126.wav  100263   63.000000   67.000000         1     5   \n",
      "4     100263-2-0-137.wav  100263   68.500000   72.500000         1     5   \n",
      "...                  ...     ...         ...         ...       ...   ...   \n",
      "8727     99812-1-2-0.wav   99812  159.522205  163.522205         2     7   \n",
      "8728     99812-1-3-0.wav   99812  181.142431  183.284976         2     7   \n",
      "8729     99812-1-4-0.wav   99812  242.691902  246.197885         2     7   \n",
      "8730     99812-1-5-0.wav   99812  253.209850  255.741948         2     7   \n",
      "8731     99812-1-6-0.wav   99812  332.289233  334.821332         2     7   \n",
      "\n",
      "      classID             class  \\\n",
      "0           3          dog_bark   \n",
      "1           2  children_playing   \n",
      "2           2  children_playing   \n",
      "3           2  children_playing   \n",
      "4           2  children_playing   \n",
      "...       ...               ...   \n",
      "8727        1          car_horn   \n",
      "8728        1          car_horn   \n",
      "8729        1          car_horn   \n",
      "8730        1          car_horn   \n",
      "8731        1          car_horn   \n",
      "\n",
      "                                             audio_path  air_conditioner  \\\n",
      "0       UrbanSoundscapes8K/audio/fold5/100032-3-0-0.wav              0.0   \n",
      "1     UrbanSoundscapes8K/audio/fold5/100263-2-0-117.wav              0.0   \n",
      "2     UrbanSoundscapes8K/audio/fold5/100263-2-0-121.wav              0.0   \n",
      "3     UrbanSoundscapes8K/audio/fold5/100263-2-0-126.wav              0.0   \n",
      "4     UrbanSoundscapes8K/audio/fold5/100263-2-0-137.wav              0.0   \n",
      "...                                                 ...              ...   \n",
      "8727     UrbanSoundscapes8K/audio/fold7/99812-1-2-0.wav              0.0   \n",
      "8728     UrbanSoundscapes8K/audio/fold7/99812-1-3-0.wav              0.0   \n",
      "8729     UrbanSoundscapes8K/audio/fold7/99812-1-4-0.wav              0.0   \n",
      "8730     UrbanSoundscapes8K/audio/fold7/99812-1-5-0.wav              0.0   \n",
      "8731     UrbanSoundscapes8K/audio/fold7/99812-1-6-0.wav              0.0   \n",
      "\n",
      "      car_horn  children_playing  dog_bark  drilling  engine_idling  gun_shot  \\\n",
      "0          0.0               0.0       1.0       0.0            0.0       0.0   \n",
      "1          0.0               1.0       0.0       0.0            0.0       0.0   \n",
      "2          0.0               1.0       0.0       0.0            0.0       0.0   \n",
      "3          0.0               1.0       0.0       0.0            0.0       0.0   \n",
      "4          0.0               1.0       0.0       0.0            0.0       0.0   \n",
      "...        ...               ...       ...       ...            ...       ...   \n",
      "8727       1.0               0.0       0.0       0.0            0.0       0.0   \n",
      "8728       1.0               0.0       0.0       0.0            0.0       0.0   \n",
      "8729       1.0               0.0       0.0       0.0            0.0       0.0   \n",
      "8730       1.0               0.0       0.0       0.0            0.0       0.0   \n",
      "8731       1.0               0.0       0.0       0.0            0.0       0.0   \n",
      "\n",
      "      jackhammer  siren  street_music  \n",
      "0            0.0    0.0           0.0  \n",
      "1            0.0    0.0           0.0  \n",
      "2            0.0    0.0           0.0  \n",
      "3            0.0    0.0           0.0  \n",
      "4            0.0    0.0           0.0  \n",
      "...          ...    ...           ...  \n",
      "8727         0.0    0.0           0.0  \n",
      "8728         0.0    0.0           0.0  \n",
      "8729         0.0    0.0           0.0  \n",
      "8730         0.0    0.0           0.0  \n",
      "8731         0.0    0.0           0.0  \n",
      "\n",
      "[8732 rows x 19 columns]\n"
     ]
    }
   ],
   "source": [
    "# Creating an empty DataFrame with the same columns as df plus the 'audio_path' + sources columns\n",
    "new_columns = df.columns.tolist() + ['audio_path'] + US8k_sources\n",
    "new_df = pd.DataFrame(columns=new_columns)\n",
    "\n",
    "# Iterate over rows and apply the condition\n",
    "for index, row in df.iterrows():\n",
    "    # Generate the audio path\n",
    "    audio_path = \"UrbanSoundscapes8K/audio/fold\"+str(row[\"fold\"])+\"/\"+row[\"slice_file_name\"]\n",
    "    # Generate binary vector of sources\n",
    "    sources_vector=np.zeros(len(US8k_sources))\n",
    "    sources_vector[row[\"classID\"]]=1\n",
    "    # Append the row to the new DataFrame with the audio_path\n",
    "    new_row = row.tolist() + [audio_path]+sources_vector.tolist()\n",
    "    new_df.loc[len(new_df)] = new_row\n",
    "\n",
    "# Reset index if needed\n",
    "new_df.reset_index(drop=True, inplace=True)\n",
    "\n",
    "print(new_df)\n"
   ]
  },
  {
   "cell_type": "markdown",
   "metadata": {},
   "source": [
    "Save in saving directory path"
   ]
  },
  {
   "cell_type": "code",
   "execution_count": 26,
   "metadata": {},
   "outputs": [],
   "source": [
    "new_df.to_csv(saving_path, index=False)"
   ]
  }
 ],
 "metadata": {
  "kernelspec": {
   "display_name": "clap",
   "language": "python",
   "name": "python3"
  },
  "language_info": {
   "codemirror_mode": {
    "name": "ipython",
    "version": 3
   },
   "file_extension": ".py",
   "mimetype": "text/x-python",
   "name": "python",
   "nbconvert_exporter": "python",
   "pygments_lexer": "ipython3",
   "version": "3.10.14"
  }
 },
 "nbformat": 4,
 "nbformat_minor": 2
}
